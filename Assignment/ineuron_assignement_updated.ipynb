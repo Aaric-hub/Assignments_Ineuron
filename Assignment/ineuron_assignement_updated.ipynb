{
 "cells": [
  {
   "cell_type": "code",
   "execution_count": 1,
   "metadata": {},
   "outputs": [],
   "source": [
    "from datetime import datetime\n",
    "import mysql.connector\n",
    "\n",
    "# estrablishing the connectiontomySQL as i have stored my data there\n",
    "conn = mysql.connector.connect(host='localhost',\n",
    "                              database='assign',\n",
    "                              user='root',\n",
    "                              password='Aaric@218')"
   ]
  },
  {
   "cell_type": "code",
   "execution_count": 2,
   "metadata": {},
   "outputs": [
    {
     "data": {
      "text/plain": [
       "True"
      ]
     },
     "execution_count": 2,
     "metadata": {},
     "output_type": "execute_result"
    }
   ],
   "source": [
    "# checking the connection status\n",
    "conn.is_connected()"
   ]
  },
  {
   "cell_type": "code",
   "execution_count": 3,
   "metadata": {},
   "outputs": [],
   "source": [
    "conn.connect()"
   ]
  },
  {
   "cell_type": "code",
   "execution_count": 4,
   "metadata": {},
   "outputs": [
    {
     "name": "stdout",
     "output_type": "stream",
     "text": [
      "DB CONNECTED\n",
      "None\n"
     ]
    }
   ],
   "source": [
    "# checking the status of databse connection\n",
    "if conn.is_connected():\n",
    "    print(\"DB CONNECTED\")\n",
    "    cursor = conn.cursor()\n",
    "    cursor.execute(\"USE assign;\")\n",
    "    record = cursor.fetchone()\n",
    "    print(record)"
   ]
  },
  {
   "cell_type": "code",
   "execution_count": 13,
   "metadata": {},
   "outputs": [],
   "source": [
    "## This is class to perform checking account balance, to perform withdraw of amount asked and fetch the transaction details\n",
    "\n",
    "class assign:\n",
    "    # A constructor that is called automatically when the class is called with userid as parameter\n",
    "    def __init__(self,userid:int):\n",
    "        self.userid = userid\n",
    "       \n",
    "    # function to check account balance of given userid\n",
    "    def check_account_bal(self):\n",
    "        conn.connect()\n",
    "        curent_bal = cursor.callproc(\"account_bal\",[self.userid,'@M'])[1]\n",
    "        #conn.close()\n",
    "        return curent_bal\n",
    "    \n",
    "    # Function to update account after withdraw\n",
    "    def updateBank_account(self,withdraw_amount:int):\n",
    "        current_bal = self.check_account_bal()\n",
    "        update_bal = current_bal - withdraw_amount\n",
    "        try:\n",
    "            conn.connect()\n",
    "            cursor.execute(f\"UPDATE bank_account SET amount = '{update_bal}' WHERE UserID = '{self.userid}'\")\n",
    "            conn.commit()\n",
    "            conn.close()\n",
    "        except Exception as e:\n",
    "            print(e)\n",
    "    \n",
    "    # function to check minimum balance and make withdraw:\n",
    "    def withdraw(self,withdraw_amount:int):\n",
    "        conn.connect()\n",
    "        curent_bal = self.check_account_bal()\n",
    "        status = cursor.callproc(\"withdraw_amt\",[self.userid,'@M'])[1]\n",
    "        conn.close()\n",
    "        if status == None:\n",
    "            print(f\"You do not have sufficient balance\\nCurrent balance :: {curent_bal}\")\n",
    "        else:\n",
    "            new_bal = curent_bal - withdraw_amount\n",
    "            if new_bal > 5000:\n",
    "                self.updateBank_account(withdraw_amount)\n",
    "                date = datetime.today().date()\n",
    "                self.log_transaction(date,withdraw_amount)\n",
    "                print(f\"Transaction successfull!!!\\nCurrent bal :: {new_bal}\")\n",
    "            else:\n",
    "                print(f\"Account balance can not be below minimum balance...\\nCurrent bal :: {curent_bal}\")\n",
    "    \n",
    "    # function to log transaction details to transaction table\n",
    "    def log_transaction(self,date,withdraw_amount):\n",
    "        try:\n",
    "            conn.connect()\n",
    "            cursor.reset()\n",
    "            result = cursor.execute(f\"SELECT * FROM bank_account WHERE UserID='{self.userid}'\")\n",
    "            bank_acc_id = cursor.fetchone()[2]\n",
    "            cursor.execute(f\"INSERT INTO transaction_table(tansaction_date,UserID,Bank_AC_id,withdrwan_amnt) VALUES('{date}','{self.userid}','{bank_acc_id}','{withdraw_amount}')\")\n",
    "            conn.commit()\n",
    "            conn.close()\n",
    "        except Exception as e:\n",
    "            print(e)\n",
    "            \n",
    "    # function to check account statement\n",
    "    def check_account_statement(self,from_date,to_date):\n",
    "        try:\n",
    "            conn.connect()\n",
    "            trans = cursor.execute(f\"SELECT * FROM transaction_table WHERE UserID = '{self.userid}' AND tansaction_date BETWEEN '{from_date}' AND '{to_date}'\")\n",
    "            result = cursor.fetchall()\n",
    "            conn.close()\n",
    "            return [i for i in result]\n",
    "        except Exception as e:\n",
    "            print(e)"
   ]
  },
  {
   "cell_type": "code",
   "execution_count": 14,
   "metadata": {},
   "outputs": [],
   "source": [
    "a = assign(3)"
   ]
  },
  {
   "cell_type": "code",
   "execution_count": 15,
   "metadata": {},
   "outputs": [
    {
     "data": {
      "text/plain": [
       "1547860.0"
      ]
     },
     "execution_count": 15,
     "metadata": {},
     "output_type": "execute_result"
    }
   ],
   "source": [
    "a.check_account_bal()"
   ]
  },
  {
   "cell_type": "code",
   "execution_count": 16,
   "metadata": {},
   "outputs": [
    {
     "name": "stdout",
     "output_type": "stream",
     "text": [
      "Transaction successfull!!!\n",
      "Current bal :: 1547830.0\n"
     ]
    }
   ],
   "source": [
    "a.withdraw(30)"
   ]
  },
  {
   "cell_type": "code",
   "execution_count": 17,
   "metadata": {},
   "outputs": [
    {
     "data": {
      "text/plain": [
       "[(datetime.date(2022, 6, 5), 3, '123546', 30.0)]"
      ]
     },
     "execution_count": 17,
     "metadata": {},
     "output_type": "execute_result"
    }
   ],
   "source": [
    "s = '2000-06-01'\n",
    "from_d = datetime.strptime(s,\"%Y-%m-%d\").date()\n",
    "v = '2025-06-01'\n",
    "to_d = datetime.strptime(v,\"%Y-%m-%d\").date()\n",
    "\n",
    "a.check_account_statement(from_d,to_d)"
   ]
  },
  {
   "cell_type": "code",
   "execution_count": 18,
   "metadata": {},
   "outputs": [
    {
     "name": "stdout",
     "output_type": "stream",
     "text": [
      "Date:2022-06-05, Bank Account ID:123546, Withdraw Amount: 30.0\n"
     ]
    }
   ],
   "source": [
    "result = a.check_account_statement(from_d,to_d)\n",
    "for i in result:\n",
    "    print(f\"Date:{i[0]}, Bank Account ID:{i[2]}, Withdraw Amount: {i[-1]}\")"
   ]
  },
  {
   "cell_type": "code",
   "execution_count": null,
   "metadata": {},
   "outputs": [],
   "source": []
  }
 ],
 "metadata": {
  "kernelspec": {
   "display_name": "Python 3",
   "language": "python",
   "name": "python3"
  },
  "language_info": {
   "codemirror_mode": {
    "name": "ipython",
    "version": 3
   },
   "file_extension": ".py",
   "mimetype": "text/x-python",
   "name": "python",
   "nbconvert_exporter": "python",
   "pygments_lexer": "ipython3",
   "version": "3.8.5"
  }
 },
 "nbformat": 4,
 "nbformat_minor": 4
}
