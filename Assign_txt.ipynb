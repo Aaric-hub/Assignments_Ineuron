{
  "nbformat": 4,
  "nbformat_minor": 0,
  "metadata": {
    "colab": {
      "name": "Assign_txt.ipynb",
      "provenance": [],
      "collapsed_sections": [],
      "authorship_tag": "ABX9TyOyZE4DyF66MhHUBaB9MfYK",
      "include_colab_link": true
    },
    "kernelspec": {
      "name": "python3",
      "display_name": "Python 3"
    },
    "language_info": {
      "name": "python"
    }
  },
  "cells": [
    {
      "cell_type": "markdown",
      "metadata": {
        "id": "view-in-github",
        "colab_type": "text"
      },
      "source": [
        "<a href=\"https://colab.research.google.com/github/biswa-mohapatra/Assignments_Ineuron/blob/main/Assign_txt.ipynb\" target=\"_parent\"><img src=\"https://colab.research.google.com/assets/colab-badge.svg\" alt=\"Open In Colab\"/></a>"
      ]
    },
    {
      "cell_type": "markdown",
      "source": [
        "1. Create a function in python to read the text file and replace specific content of the file.\n",
        "\n",
        "| File name -> example.txt |\n",
        "\n",
        "\n",
        "---\n",
        "\n",
        "\n",
        "| Origin file content -> This is a placement assignment|\n",
        "\n",
        "\n",
        "---\n",
        "\n",
        "\n",
        "| Replace string -> Placement should be replaced by screening.|\n",
        "\n",
        "\n",
        "---\n",
        "\n",
        "\n",
        "| Replaced file -> content This is a screening assignment|\n",
        "\n",
        "\n",
        "---\n",
        "\n"
      ],
      "metadata": {
        "id": "0ncKw7i-H1nH"
      }
    },
    {
      "cell_type": "code",
      "source": [
        "# Defining class object for creatining and replacing tasks\n",
        "class assign:\n",
        "  # Constructor: called autometically when class is intialized:\n",
        "  def __init__(self,old_word:str,new_word:str):\n",
        "    self.word = old_word\n",
        "    self.new_word = new_word\n",
        "\n",
        "  # Function to create file:\n",
        "  def create_file(self,scent:str,file_name:str) -> str:\n",
        "    with open(file_name, 'w+') as f:\n",
        "      f.write(scent)\n",
        "    return f\"File created with name {file_name} and content '{scent}'.\"\n",
        "\n",
        "  # Function to perform replace task:\n",
        "  def replace(self) -> str:\n",
        "    old_file = open(\"example.txt\",'r')\n",
        "    lines = old_file.readlines()\n",
        "    old_file.close()\n",
        "    del_file = open(\"example.txt\",\"w\")\n",
        "    del_file.truncate()\n",
        "    del_file.close()\n",
        "    if self.word in lines[0].split():\n",
        "      new_line = lines[0].replace(self.word,self.new_word)\n",
        "      new_file = open('example.txt',\"a+\")\n",
        "      new_file.writelines(new_line)\n",
        "      new_file.close()\n",
        "      return print(f\"Old Line: {lines[0]}\\nNew line: {new_line}\")\n",
        "    else:\n",
        "      return f\"{self.word} not found!\"\n",
        "\n",
        "# Performing the tasks:\n",
        "\n",
        "# Initiating class object:\n",
        "a = assign(\"placement\",\"screening\")\n",
        "\n",
        "# Defining parameters:\n",
        "scent = 'This is a placement assignment'\n",
        "file_name = \"example.txt\"\n",
        "\n",
        "# Calling create file defination:\n",
        "a.create_file(scent,file_name)\n",
        "\n",
        "# Calling replace function:\n",
        "a.replace()"
      ],
      "metadata": {
        "colab": {
          "base_uri": "https://localhost:8080/"
        },
        "id": "z5A1Zdyj_bmP",
        "outputId": "fb28003b-ed7b-4b71-869c-b553b3fbb95a"
      },
      "execution_count": null,
      "outputs": [
        {
          "output_type": "stream",
          "name": "stdout",
          "text": [
            "Old Line: This is a placement assignment\n",
            "New line: This is a screening assignment\n"
          ]
        }
      ]
    },
    {
      "cell_type": "markdown",
      "source": [
        "2. Demonstrate use of abstract class, multiple inheritance and decorator in\n",
        "python using examples."
      ],
      "metadata": {
        "id": "FD0VRJajJC62"
      }
    },
    {
      "cell_type": "code",
      "source": [
        "# Python program showing\n",
        "# abstract base class work\n",
        "\n",
        "from abc import ABC, abstractmethod\n",
        "\n",
        "class me(ABC):\n",
        "\n",
        "\t@abstractmethod\n",
        "\tdef about_me(self):\n",
        "\t\tpass\n",
        "\n",
        "class intro(me):\n",
        "\n",
        "\t# overriding abstract method\n",
        "\tdef about_me(self):\n",
        "\t\tprint(\"Hi, I am Biswajit.\")\n",
        "\n",
        "class what_i_do(me):\n",
        "\n",
        "\t# overriding abstract method\n",
        "\tdef about_me(self):\n",
        "\t\tprint(\"I am a Data Scientist.\")\n",
        "\n",
        "class hobbies(me):\n",
        "\n",
        "\t# overriding abstract method\n",
        "\tdef about_me(self):\n",
        "\t\tprint(\"I like travelling and exploring new places and food.\")\n",
        "\n",
        "class sports_i_like(me):\n",
        "\n",
        "\t# overriding abstract method\n",
        "\tdef about_me(self):\n",
        "\t\tprint(\"My favourite sports are Cricket, Badmintion and Basketball.\")\n",
        "\n",
        "# Driver code\n",
        "intro = intro()\n",
        "intro.about_me()\n",
        "\n",
        "i_do = what_i_do()\n",
        "i_do.about_me()\n",
        "\n",
        "hobbies = hobbies()\n",
        "hobbies.about_me()\n",
        "\n",
        "sports = sports_i_like()\n",
        "sports.about_me()"
      ],
      "metadata": {
        "id": "A-JhsqpwEjLL",
        "colab": {
          "base_uri": "https://localhost:8080/"
        },
        "outputId": "d7a2b8e5-5dce-4b39-ab55-41cf8c0bc346"
      },
      "execution_count": 1,
      "outputs": [
        {
          "output_type": "stream",
          "name": "stdout",
          "text": [
            "Hi, I am Biswajit.\n",
            "I am a Data Scientist.\n",
            "I like travelling and exploring new places and food.\n",
            "My favourite sports are Cricket, Badmintion and Basketball.\n"
          ]
        }
      ]
    },
    {
      "cell_type": "code",
      "source": [
        "# Python Program to depict multiple inheritance\n",
        "# when method is overridden in both classes\n",
        " \n",
        "class about:\n",
        "    def m(self):\n",
        "        print(\"Hi, I am biswajit.\")\n",
        "       \n",
        "class i_am(about):\n",
        "    def m(self):\n",
        "        print(\"I am a Data Scientist.\")\n",
        " \n",
        "class hobbies(about):\n",
        "    def m(self):\n",
        "        print(\"Travelling and exploring.\") \n",
        "        \n",
        "class hobbies_first(hobbies,i_am):\n",
        "    pass \n",
        "\n",
        "class i_am_first(i_am,hobbies):\n",
        "    pass  \n",
        "     \n",
        "obj = hobbies_first()\n",
        "obj.m()\n",
        "\n",
        "obj_1 = i_am_first()\n",
        "obj_1.m()"
      ],
      "metadata": {
        "colab": {
          "base_uri": "https://localhost:8080/"
        },
        "id": "Rayfex1ktH7q",
        "outputId": "594e209b-b730-4e35-eb8a-ac8542415f45"
      },
      "execution_count": 5,
      "outputs": [
        {
          "output_type": "stream",
          "name": "stdout",
          "text": [
            "Travelling and exploring.\n",
            "I am a Data Scientist.\n"
          ]
        }
      ]
    },
    {
      "cell_type": "code",
      "source": [
        "# decorator class implimentation by example\n",
        "\n",
        "def adv_div(x):\n",
        "  def div(a,b):\n",
        "    print(f\"I am going to divide {a} and {b}\")\n",
        "    if b == 0:\n",
        "      return b+1e-10 # avoiding zero division error\n",
        "    return x(a,b)\n",
        "  return div\n",
        "\n",
        "@adv_div\n",
        "def divide(a,b):\n",
        "  print(a/b)\n",
        "\n",
        "divide(4,0)"
      ],
      "metadata": {
        "colab": {
          "base_uri": "https://localhost:8080/"
        },
        "id": "ob6Ax9eRvY3E",
        "outputId": "9643fbac-a337-4f7c-a3db-5a66fc60950b"
      },
      "execution_count": 17,
      "outputs": [
        {
          "output_type": "stream",
          "name": "stdout",
          "text": [
            "I am going to divide 4 and 0\n"
          ]
        },
        {
          "output_type": "execute_result",
          "data": {
            "text/plain": [
              "1e-10"
            ]
          },
          "metadata": {},
          "execution_count": 17
        }
      ]
    },
    {
      "cell_type": "code",
      "source": [
        ""
      ],
      "metadata": {
        "id": "U4zi_SS6x9FW"
      },
      "execution_count": null,
      "outputs": []
    }
  ]
}